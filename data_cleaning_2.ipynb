{
 "cells": [
  {
   "cell_type": "code",
   "execution_count": 2,
   "id": "amber-broadway",
   "metadata": {},
   "outputs": [],
   "source": [
    "import os\n",
    "import numpy as np\n",
    "import pandas as pd"
   ]
  },
  {
   "cell_type": "code",
   "execution_count": 8,
   "id": "stuffed-homeless",
   "metadata": {},
   "outputs": [],
   "source": [
    "# read rating\n",
    "data_path = './data'\n",
    "df_rating = pd.read_csv('./data/rating_cleaned.csv')"
   ]
  },
  {
   "cell_type": "code",
   "execution_count": 9,
   "id": "charitable-national",
   "metadata": {},
   "outputs": [
    {
     "data": {
      "text/plain": [
       "0          False\n",
       "1          False\n",
       "2          False\n",
       "3           True\n",
       "4           True\n",
       "           ...  \n",
       "5498518     True\n",
       "5498519     True\n",
       "5498520     True\n",
       "5498521     True\n",
       "5498522    False\n",
       "Length: 5498523, dtype: bool"
      ]
     },
     "execution_count": 9,
     "metadata": {},
     "output_type": "execute_result"
    }
   ],
   "source": [
    "# show the duplicated\n",
    "df_rating.duplicated(subset=['user_id'])"
   ]
  },
  {
   "cell_type": "code",
   "execution_count": 10,
   "id": "popular-enough",
   "metadata": {},
   "outputs": [],
   "source": [
    "# remove any user who has rated less than 5 anime in rating\n",
    "e = df_rating['user_id'].value_counts()\n",
    "df_rating2 = df_rating[df_rating['user_id'].isin(e[e>4].index)]"
   ]
  },
  {
   "cell_type": "code",
   "execution_count": 11,
   "id": "dental-parish",
   "metadata": {},
   "outputs": [
    {
     "data": {
      "text/plain": [
       "42635    3266\n",
       "51693    2508\n",
       "57620    2423\n",
       "59643    2314\n",
       "7345     2192\n",
       "         ... \n",
       "1292        5\n",
       "5490        5\n",
       "22760       5\n",
       "71840       5\n",
       "66452       5\n",
       "Name: user_id, Length: 60251, dtype: int64"
      ]
     },
     "execution_count": 11,
     "metadata": {},
     "output_type": "execute_result"
    }
   ],
   "source": [
    "df_rating2['user_id'].value_counts()"
   ]
  },
  {
   "cell_type": "code",
   "execution_count": 12,
   "id": "clear-accountability",
   "metadata": {},
   "outputs": [],
   "source": [
    "## Save cleaned dataset\n",
    "df_rating2.to_csv(os.path.join(data_path, 'rating_cleaned_5.csv'), index=False)"
   ]
  },
  {
   "cell_type": "code",
   "execution_count": null,
   "id": "civil-lightning",
   "metadata": {},
   "outputs": [],
   "source": []
  }
 ],
 "metadata": {
  "kernelspec": {
   "display_name": "Python 3",
   "language": "python",
   "name": "python3"
  },
  "language_info": {
   "codemirror_mode": {
    "name": "ipython",
    "version": 3
   },
   "file_extension": ".py",
   "mimetype": "text/x-python",
   "name": "python",
   "nbconvert_exporter": "python",
   "pygments_lexer": "ipython3",
   "version": "3.8.5"
  }
 },
 "nbformat": 4,
 "nbformat_minor": 5
}
