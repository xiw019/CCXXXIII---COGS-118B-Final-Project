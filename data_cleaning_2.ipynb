{
 "cells": [
  {
   "cell_type": "code",
   "execution_count": 2,
   "id": "integrated-cable",
   "metadata": {},
   "outputs": [],
   "source": [
    "import os\n",
    "import numpy as np\n",
    "import pandas as pd"
   ]
  },
  {
   "cell_type": "code",
   "execution_count": 8,
   "id": "unable-location",
   "metadata": {},
   "outputs": [],
   "source": [
    "# read rating\n",
    "data_path = './data'\n",
    "df_rating = pd.read_csv('./data/rating_cleaned.csv')"
   ]
  },
  {
   "cell_type": "code",
   "execution_count": 9,
   "id": "interior-basin",
   "metadata": {},
   "outputs": [
    {
     "data": {
      "text/plain": [
       "0          False\n",
       "1          False\n",
       "2          False\n",
       "3           True\n",
       "4           True\n",
       "           ...  \n",
       "5498518     True\n",
       "5498519     True\n",
       "5498520     True\n",
       "5498521     True\n",
       "5498522    False\n",
       "Length: 5498523, dtype: bool"
      ]
     },
     "execution_count": 9,
     "metadata": {},
     "output_type": "execute_result"
    }
   ],
   "source": [
    "# show the duplicated\n",
    "df_rating.duplicated(subset=['user_id'])"
   ]
  },
  {
   "cell_type": "code",
   "execution_count": 10,
   "id": "pleasant-generator",
   "metadata": {},
   "outputs": [],
   "source": [
    "# remove any user who has rated less than 5 anime in rating\n",
    "e = df_rating['user_id'].value_counts()\n",
    "df_rating2 = df_rating[df_rating['user_id'].isin(e[e>4].index)]"
   ]
  },
  {
   "cell_type": "code",
   "execution_count": 11,
   "id": "tamil-bishop",
   "metadata": {},
   "outputs": [
    {
     "data": {
      "text/plain": [
       "42635    3266\n",
       "51693    2508\n",
       "57620    2423\n",
       "59643    2314\n",
       "7345     2192\n",
       "         ... \n",
       "1292        5\n",
       "5490        5\n",
       "22760       5\n",
       "71840       5\n",
       "66452       5\n",
       "Name: user_id, Length: 60251, dtype: int64"
      ]
     },
     "execution_count": 11,
     "metadata": {},
     "output_type": "execute_result"
    }
   ],
   "source": [
    "df_rating2['user_id'].value_counts()"
   ]
  },
  {
   "cell_type": "code",
   "execution_count": 12,
   "id": "personal-folks",
   "metadata": {},
   "outputs": [],
   "source": [
    "## Save cleaned dataset\n",
    "df_rating2.to_csv(os.path.join(data_path, 'rating_cleaned_5.csv'), index=False)"
   ]
  },
  {
   "cell_type": "code",
   "execution_count": 13,
   "id": "little-parking",
   "metadata": {},
   "outputs": [],
   "source": [
    "## Read data\n",
    "data_path = './data'\n",
    "df_rating = pd.read_csv(os.path.join(data_path, 'rating_cleaned_5.csv'))"
   ]
  },
  {
   "cell_type": "code",
   "execution_count": 14,
   "id": "attempted-weekend",
   "metadata": {},
   "outputs": [
    {
     "data": {
      "text/html": [
       "<div>\n",
       "<style scoped>\n",
       "    .dataframe tbody tr th:only-of-type {\n",
       "        vertical-align: middle;\n",
       "    }\n",
       "\n",
       "    .dataframe tbody tr th {\n",
       "        vertical-align: top;\n",
       "    }\n",
       "\n",
       "    .dataframe thead th {\n",
       "        text-align: right;\n",
       "    }\n",
       "</style>\n",
       "<table border=\"1\" class=\"dataframe\">\n",
       "  <thead>\n",
       "    <tr style=\"text-align: right;\">\n",
       "      <th></th>\n",
       "      <th>user_id</th>\n",
       "      <th>anime_id</th>\n",
       "      <th>rating</th>\n",
       "    </tr>\n",
       "  </thead>\n",
       "  <tbody>\n",
       "    <tr>\n",
       "      <th>3139424</th>\n",
       "      <td>42653</td>\n",
       "      <td>1575</td>\n",
       "      <td>8</td>\n",
       "    </tr>\n",
       "    <tr>\n",
       "      <th>3139425</th>\n",
       "      <td>42653</td>\n",
       "      <td>2001</td>\n",
       "      <td>8</td>\n",
       "    </tr>\n",
       "    <tr>\n",
       "      <th>3139436</th>\n",
       "      <td>42653</td>\n",
       "      <td>11757</td>\n",
       "      <td>8</td>\n",
       "    </tr>\n",
       "    <tr>\n",
       "      <th>3139439</th>\n",
       "      <td>42653</td>\n",
       "      <td>16498</td>\n",
       "      <td>8</td>\n",
       "    </tr>\n",
       "    <tr>\n",
       "      <th>3139441</th>\n",
       "      <td>42653</td>\n",
       "      <td>20507</td>\n",
       "      <td>7</td>\n",
       "    </tr>\n",
       "    <tr>\n",
       "      <th>3139443</th>\n",
       "      <td>42653</td>\n",
       "      <td>22319</td>\n",
       "      <td>8</td>\n",
       "    </tr>\n",
       "    <tr>\n",
       "      <th>3139446</th>\n",
       "      <td>42653</td>\n",
       "      <td>23283</td>\n",
       "      <td>8</td>\n",
       "    </tr>\n",
       "    <tr>\n",
       "      <th>3139466</th>\n",
       "      <td>42653</td>\n",
       "      <td>1575</td>\n",
       "      <td>6</td>\n",
       "    </tr>\n",
       "    <tr>\n",
       "      <th>3139468</th>\n",
       "      <td>42653</td>\n",
       "      <td>2001</td>\n",
       "      <td>10</td>\n",
       "    </tr>\n",
       "    <tr>\n",
       "      <th>3139487</th>\n",
       "      <td>42653</td>\n",
       "      <td>11757</td>\n",
       "      <td>5</td>\n",
       "    </tr>\n",
       "    <tr>\n",
       "      <th>3139496</th>\n",
       "      <td>42653</td>\n",
       "      <td>16498</td>\n",
       "      <td>8</td>\n",
       "    </tr>\n",
       "    <tr>\n",
       "      <th>3139500</th>\n",
       "      <td>42653</td>\n",
       "      <td>20507</td>\n",
       "      <td>9</td>\n",
       "    </tr>\n",
       "    <tr>\n",
       "      <th>3139505</th>\n",
       "      <td>42653</td>\n",
       "      <td>22319</td>\n",
       "      <td>6</td>\n",
       "    </tr>\n",
       "    <tr>\n",
       "      <th>3139506</th>\n",
       "      <td>42653</td>\n",
       "      <td>23283</td>\n",
       "      <td>9</td>\n",
       "    </tr>\n",
       "  </tbody>\n",
       "</table>\n",
       "</div>"
      ],
      "text/plain": [
       "         user_id  anime_id  rating\n",
       "3139424    42653      1575       8\n",
       "3139425    42653      2001       8\n",
       "3139436    42653     11757       8\n",
       "3139439    42653     16498       8\n",
       "3139441    42653     20507       7\n",
       "3139443    42653     22319       8\n",
       "3139446    42653     23283       8\n",
       "3139466    42653      1575       6\n",
       "3139468    42653      2001      10\n",
       "3139487    42653     11757       5\n",
       "3139496    42653     16498       8\n",
       "3139500    42653     20507       9\n",
       "3139505    42653     22319       6\n",
       "3139506    42653     23283       9"
      ]
     },
     "execution_count": 14,
     "metadata": {},
     "output_type": "execute_result"
    }
   ],
   "source": [
    "# find duplicate user rate the same anime,yet different rating\n",
    "df2 = df_rating[df_rating.duplicated(subset=['user_id','anime_id'], keep=False)]\n",
    "df2"
   ]
  },
  {
   "cell_type": "code",
   "execution_count": 15,
   "id": "following-framework",
   "metadata": {},
   "outputs": [
    {
     "data": {
      "text/plain": [
       "False    5478968\n",
       "dtype: int64"
      ]
     },
     "execution_count": 15,
     "metadata": {},
     "output_type": "execute_result"
    }
   ],
   "source": [
    "# remove duplicate user rate the same anime,yet different rating\n",
    "rows_to_remove = np.where(df_rating['user_id'] == 42653)[0]\n",
    "df3 = df_rating.drop(rows_to_remove)\n",
    "df3 = df3.reset_index(drop=True)\n",
    "df3.duplicated(subset=['user_id','anime_id']).value_counts()"
   ]
  },
  {
   "cell_type": "code",
   "execution_count": 17,
   "id": "collected-zimbabwe",
   "metadata": {},
   "outputs": [],
   "source": [
    "## Save cleaned dataset\n",
    "df3.to_csv(os.path.join(data_path, 'rating_cleaned_5.csv'), index=False)"
   ]
  },
  {
   "cell_type": "code",
   "execution_count": 19,
   "id": "ecological-tiffany",
   "metadata": {},
   "outputs": [
    {
     "data": {
      "text/html": [
       "<div>\n",
       "<style scoped>\n",
       "    .dataframe tbody tr th:only-of-type {\n",
       "        vertical-align: middle;\n",
       "    }\n",
       "\n",
       "    .dataframe tbody tr th {\n",
       "        vertical-align: top;\n",
       "    }\n",
       "\n",
       "    .dataframe thead th {\n",
       "        text-align: right;\n",
       "    }\n",
       "</style>\n",
       "<table border=\"1\" class=\"dataframe\">\n",
       "  <thead>\n",
       "    <tr style=\"text-align: right;\">\n",
       "      <th></th>\n",
       "      <th>user_id</th>\n",
       "      <th>anime_id</th>\n",
       "      <th>rating</th>\n",
       "    </tr>\n",
       "  </thead>\n",
       "  <tbody>\n",
       "    <tr>\n",
       "      <th>0</th>\n",
       "      <td>3</td>\n",
       "      <td>20</td>\n",
       "      <td>8</td>\n",
       "    </tr>\n",
       "    <tr>\n",
       "      <th>1</th>\n",
       "      <td>3</td>\n",
       "      <td>154</td>\n",
       "      <td>6</td>\n",
       "    </tr>\n",
       "    <tr>\n",
       "      <th>2</th>\n",
       "      <td>3</td>\n",
       "      <td>170</td>\n",
       "      <td>9</td>\n",
       "    </tr>\n",
       "    <tr>\n",
       "      <th>3</th>\n",
       "      <td>3</td>\n",
       "      <td>199</td>\n",
       "      <td>10</td>\n",
       "    </tr>\n",
       "    <tr>\n",
       "      <th>4</th>\n",
       "      <td>3</td>\n",
       "      <td>225</td>\n",
       "      <td>9</td>\n",
       "    </tr>\n",
       "    <tr>\n",
       "      <th>...</th>\n",
       "      <td>...</td>\n",
       "      <td>...</td>\n",
       "      <td>...</td>\n",
       "    </tr>\n",
       "    <tr>\n",
       "      <th>5478963</th>\n",
       "      <td>73515</td>\n",
       "      <td>13659</td>\n",
       "      <td>8</td>\n",
       "    </tr>\n",
       "    <tr>\n",
       "      <th>5478964</th>\n",
       "      <td>73515</td>\n",
       "      <td>14345</td>\n",
       "      <td>7</td>\n",
       "    </tr>\n",
       "    <tr>\n",
       "      <th>5478965</th>\n",
       "      <td>73515</td>\n",
       "      <td>16512</td>\n",
       "      <td>7</td>\n",
       "    </tr>\n",
       "    <tr>\n",
       "      <th>5478966</th>\n",
       "      <td>73515</td>\n",
       "      <td>17187</td>\n",
       "      <td>9</td>\n",
       "    </tr>\n",
       "    <tr>\n",
       "      <th>5478967</th>\n",
       "      <td>73515</td>\n",
       "      <td>22145</td>\n",
       "      <td>10</td>\n",
       "    </tr>\n",
       "  </tbody>\n",
       "</table>\n",
       "<p>5478968 rows × 3 columns</p>\n",
       "</div>"
      ],
      "text/plain": [
       "         user_id  anime_id  rating\n",
       "0              3        20       8\n",
       "1              3       154       6\n",
       "2              3       170       9\n",
       "3              3       199      10\n",
       "4              3       225       9\n",
       "...          ...       ...     ...\n",
       "5478963    73515     13659       8\n",
       "5478964    73515     14345       7\n",
       "5478965    73515     16512       7\n",
       "5478966    73515     17187       9\n",
       "5478967    73515     22145      10\n",
       "\n",
       "[5478968 rows x 3 columns]"
      ]
     },
     "execution_count": 19,
     "metadata": {},
     "output_type": "execute_result"
    }
   ],
   "source": [
    "df_rating"
   ]
  },
  {
   "cell_type": "code",
   "execution_count": null,
   "id": "behavioral-kitchen",
   "metadata": {},
   "outputs": [],
   "source": []
  }
 ],
 "metadata": {
  "kernelspec": {
   "display_name": "Python 3",
   "language": "python",
   "name": "python3"
  },
  "language_info": {
   "codemirror_mode": {
    "name": "ipython",
    "version": 3
   },
   "file_extension": ".py",
   "mimetype": "text/x-python",
   "name": "python",
   "nbconvert_exporter": "python",
   "pygments_lexer": "ipython3",
   "version": "3.8.5"
  }
 },
 "nbformat": 4,
 "nbformat_minor": 5
}
