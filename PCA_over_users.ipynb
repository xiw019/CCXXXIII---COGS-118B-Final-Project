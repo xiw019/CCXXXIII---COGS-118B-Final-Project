{
 "cells": [
  {
   "cell_type": "code",
   "execution_count": 1,
   "metadata": {},
   "outputs": [],
   "source": [
    "import random\n",
    "import math\n",
    "import numpy as np\n",
    "import scipy.io as sio\n",
    "import matplotlib\n",
    "import matplotlib.pyplot as plt\n",
    "from numpy.matlib import repmat\n",
    "import pandas as pd\n",
    "from sklearn.preprocessing import normalize\n",
    "\n",
    "%matplotlib inline"
   ]
  },
  {
   "cell_type": "code",
   "execution_count": 2,
   "metadata": {},
   "outputs": [],
   "source": [
    "def eigsort(V, eigvals): \n",
    "    # Sort the eigenvalues from largest to smallest. Store the sorted\n",
    "    # eigenvalues in the column vector lambd.\n",
    "    lohival = np.sort(eigvals)\n",
    "    lohiindex = np.argsort(eigvals)\n",
    "    lambd = np.flip(lohival)\n",
    "    index = np.flip(lohiindex)\n",
    "    Dsort = np.diag(lambd)\n",
    "    \n",
    "    # Sort eigenvectors to correspond to the ordered eigenvalues. Store sorted\n",
    "    # eigenvectors as columns of the matrix vsort.\n",
    "    M = np.size(lambd)\n",
    "    Vsort = np.zeros((M, M))\n",
    "    for i in range(M):\n",
    "        Vsort[:,i] = V[:,index[i]]\n",
    "    return Vsort, Dsort\n",
    "\n",
    "# normc(M) normalizes the columns of M to a length of 1.\n",
    "def normc(Mat):\n",
    "    return normalize(Mat, norm='l2', axis=0)"
   ]
  },
  {
   "cell_type": "code",
   "execution_count": 3,
   "metadata": {},
   "outputs": [],
   "source": [
    "# import rawdata as numpy\n",
    "rawdata = pd.read_csv('data/rating_cleaned_update.csv')\n",
    "rawdata = rawdata.to_numpy(dtype=int)"
   ]
  },
  {
   "cell_type": "code",
   "execution_count": 4,
   "metadata": {},
   "outputs": [
    {
     "name": "stdout",
     "output_type": "stream",
     "text": [
      "54004 43203 10801\n",
      "[    3     5     7 ... 73512 73513 73515] [    3     7     8 ... 73512 73513 73515] [    5    11    21 ... 73499 73502 73511]\n"
     ]
    }
   ],
   "source": [
    "# Randomly seperate rawdata into training and testing based on the user id. 80:20 split\n",
    "ids = list(set(rawdata[:,0]))\n",
    "num_users = len(ids)\n",
    "random.shuffle(ids)\n",
    "split = int(len(ids) * 0.8)\n",
    "train_id = np.sort(ids[:split])\n",
    "test_id = np.sort(ids[split:])\n",
    "ids = np.sort(ids)\n",
    "num_train_user = len(train_id)\n",
    "num_test_user = len(test_id)\n",
    "print(num_users, num_train_user, num_test_user)\n",
    "print(ids, train_id, test_id)"
   ]
  },
  {
   "cell_type": "code",
   "execution_count": 5,
   "metadata": {},
   "outputs": [],
   "source": [
    "# Base on the user id split, split the dataset as well.\n",
    "train_data = []\n",
    "test_data = []\n",
    "train_index = 0\n",
    "test_index = 0\n",
    "for i in rawdata:\n",
    "    if i[0] > train_id[train_index] and train_index < len(train_id)-1:\n",
    "        train_index += 1\n",
    "    if i[0] > test_id[test_index] and test_index < len(test_id)-1:\n",
    "        test_index += 1\n",
    "    \n",
    "    if i[0] == train_id[train_index]:\n",
    "        train_data.append(i)\n",
    "    elif i[0] == test_id[test_index]:\n",
    "        test_data.append(i)\n",
    "    else:\n",
    "        print(\"Error \" + str(i[0]))"
   ]
  },
  {
   "cell_type": "code",
   "execution_count": 6,
   "metadata": {},
   "outputs": [
    {
     "name": "stdout",
     "output_type": "stream",
     "text": [
      "2815\n"
     ]
    }
   ],
   "source": [
    "# Calculate the average score for each anime in the trainning set\n",
    "average_dict = {}\n",
    "for i in train_data:\n",
    "    if i[1] in average_dict.keys():\n",
    "        average_dict[i[1]][0] += i[2]\n",
    "        average_dict[i[1]][1] += 1\n",
    "    else:\n",
    "        average_dict[i[1]] = [i[2], 1]\n",
    "for i in average_dict.keys():\n",
    "    average_dict[i] = average_dict[i][0]/average_dict[i][1]\n",
    "num_anime = len(average_dict)\n",
    "print(num_anime)"
   ]
  },
  {
   "cell_type": "code",
   "execution_count": 7,
   "metadata": {},
   "outputs": [],
   "source": [
    "# Some dictionary that can look up the id with index or index with id\n",
    "user_idx_to_id = {idx: i for idx, i in enumerate(train_id)}\n",
    "user_id_to_idx = {i: idx for idx, i in enumerate(train_id)}\n",
    "anime_idx_to_id = {idx: i for idx, i in enumerate(average_dict.keys())}\n",
    "anime_id_to_idx = {i: idx for idx, i in enumerate(average_dict.keys())}\n",
    "# An array with average score of each anime according to the index of anime\n",
    "average_anime = np.array([average_dict[i] for idx, i in enumerate(average_dict.keys())])"
   ]
  },
  {
   "cell_type": "code",
   "execution_count": 8,
   "metadata": {},
   "outputs": [],
   "source": [
    "# Make training metrix, contains users rating - mean rating, note that if a user doesn't score one anime, \n",
    "# then it by default use the average\n",
    "average_arr = np.ones((num_train_user, num_anime)) * average_anime\n",
    "anime_user_arr = average_arr.copy()\n",
    "for i in train_data:\n",
    "    anime_user_arr[user_id_to_idx[i[0]],anime_id_to_idx[i[1]]] = i[2]\n",
    "anime_user_arr -= average_arr"
   ]
  },
  {
   "cell_type": "code",
   "execution_count": null,
   "metadata": {},
   "outputs": [
    {
     "name": "stdout",
     "output_type": "stream",
     "text": [
      "(2815, 2815)\n"
     ]
    }
   ],
   "source": [
    "# Calculate the covariance matrix\n",
    "covMat = np.matmul(anime_user_arr.transpose(), anime_user_arr)\n",
    "print(covMat.shape)"
   ]
  },
  {
   "cell_type": "code",
   "execution_count": null,
   "metadata": {},
   "outputs": [
    {
     "name": "stdout",
     "output_type": "stream",
     "text": [
      "(2815, 2815)\n"
     ]
    }
   ],
   "source": [
    "# Calculate the eigenvalues and eigenvectors\n",
    "eigvals, V = np.linalg.eig(covMat)\n",
    "print(V.shape)"
   ]
  },
  {
   "cell_type": "code",
   "execution_count": null,
   "metadata": {},
   "outputs": [],
   "source": [
    "# Sort the eigenvalues and eigenectors\n",
    "V, eigvals = eigsort(V, eigvals)"
   ]
  },
  {
   "cell_type": "code",
   "execution_count": null,
   "metadata": {},
   "outputs": [],
   "source": [
    "# Use the first user to regenerate\n",
    "C = np.matmul(V.transpose(), anime_user_arr[0,:])"
   ]
  },
  {
   "cell_type": "code",
   "execution_count": null,
   "metadata": {},
   "outputs": [],
   "source": [
    "# Calculate the first user's regenerated matrix\n",
    "R = np.matmul(V[:,:], C[:]) + average_anime"
   ]
  },
  {
   "cell_type": "code",
   "execution_count": null,
   "metadata": {},
   "outputs": [
    {
     "name": "stdout",
     "output_type": "stream",
     "text": [
      "[8.         6.         9.         ... 7.23036649 7.18562874 7.015625  ]\n",
      "[8.         6.         9.         ... 7.23036649 7.18562874 7.015625  ]\n"
     ]
    }
   ],
   "source": [
    "# Print and see there are no difference\n",
    "print(R)\n",
    "print(anime_user_arr[0] + average_anime)"
   ]
  },
  {
   "cell_type": "code",
   "execution_count": null,
   "metadata": {},
   "outputs": [],
   "source": [
    "# Now reshuffle train data\n",
    "index_list = [i for i in range(len(train_data))]\n",
    "random.shuffle(index_list)"
   ]
  },
  {
   "cell_type": "code",
   "execution_count": null,
   "metadata": {},
   "outputs": [
    {
     "name": "stdout",
     "output_type": "stream",
     "text": [
      "(43203, 2815)\n"
     ]
    }
   ],
   "source": [
    "# Take out one rating of each user and get a new train not enough information to calculate error\n",
    "train_error_arr = average_arr.copy()\n",
    "train_MSE_arr = []\n",
    "met = set()\n",
    "for i in index_list:\n",
    "    one_data = train_data[i]\n",
    "    if not one_data[0] in met:\n",
    "        met.add(one_data[0])\n",
    "        train_MSE_arr.append(one_data)\n",
    "    else:\n",
    "        train_error_arr[user_id_to_idx[one_data[0]],anime_id_to_idx[one_data[1]]] = one_data[2]\n",
    "train_error_arr -= average_arr\n",
    "print(train_error_arr.shape)"
   ]
  },
  {
   "cell_type": "code",
   "execution_count": null,
   "metadata": {},
   "outputs": [],
   "source": [
    "# Calculate the regenerating matrix\n",
    "C = np.matmul(V.transpose(), train_error_arr[:,:].transpose())"
   ]
  },
  {
   "cell_type": "code",
   "execution_count": null,
   "metadata": {},
   "outputs": [
    {
     "name": "stdout",
     "output_type": "stream",
     "text": [
      "1: 1.9144589308332196 1.3836397402623342\n",
      "10: 1.7962157210788563 1.340229726979243\n",
      "20: 1.756261745298915 1.3252402594620023\n",
      "50: 1.7101173594572476 1.3077145558023155\n",
      "100: 1.6815110860166143 1.2967309227502113\n",
      "150: 1.6834723778109735 1.2974869470676664\n",
      "200: 1.6858004632275088 1.298383788880433\n",
      "500: 1.7214832397192388 1.3120530628443496\n"
     ]
    }
   ],
   "source": [
    "# Try different number of top array, and obtain the one with smallest error \n",
    "lowest = 0\n",
    "lowest_value = 2\n",
    "top_arr = [1, 10, 20, 50, 100, 150, 200, 500, 1000]\n",
    "# Use all the data above to regenerate\n",
    "for i in top_arr:\n",
    "    # Calculate all users' regenerated matrix, use only top n eigenvectors\n",
    "    R = np.matmul(V[:,:i], C[:i]).transpose() + average_arr\n",
    "    # Calculate the difference between newly regenerated matrix and the hidden scores, this is training error\n",
    "    difference = 0\n",
    "    total = 0\n",
    "    for j in train_MSE_arr:\n",
    "        difference += (R[user_id_to_idx[j[0]],anime_id_to_idx[j[1]]] - j[2]) ** 2\n",
    "        total += 1\n",
    "    mse = difference/total\n",
    "    rmse = math.sqrt(mse)\n",
    "    if rmse < lowest_value:\n",
    "        lowest_value = rmse\n",
    "        lowest = i\n",
    "    print(str(i) + \": \" + str(mse) + \" \" + str(rmse))"
   ]
  },
  {
   "cell_type": "code",
   "execution_count": null,
   "metadata": {},
   "outputs": [],
   "source": [
    "# Now calculate the test error, first prepare dictionary that can look up in testing set\n",
    "test_user_idx_to_id = {idx: i for idx, i in enumerate(test_id)}\n",
    "test_user_id_to_idx = {i: idx for idx, i in enumerate(test_id)}"
   ]
  },
  {
   "cell_type": "code",
   "execution_count": null,
   "metadata": {},
   "outputs": [],
   "source": [
    "# randomly shaffle test dataset\n",
    "index_list = [i for i in range(len(test_data))]\n",
    "random.shuffle(index_list)"
   ]
  },
  {
   "cell_type": "code",
   "execution_count": null,
   "metadata": {},
   "outputs": [],
   "source": [
    "# Do the same as above to the test dataset\n",
    "test_average_arr = np.ones((num_test_user, num_anime)) * average_anime\n",
    "test_error_arr = test_average_arr.copy()\n",
    "test_MSE_arr = []\n",
    "met = set()\n",
    "for i in index_list:\n",
    "    one_data = test_data[i]\n",
    "    if not one_data[0] in met:\n",
    "        met.add(one_data[0])\n",
    "        test_MSE_arr.append(one_data)\n",
    "    else:\n",
    "        test_error_arr[test_user_id_to_idx[one_data[0]],anime_id_to_idx[one_data[1]]] = one_data[2]\n",
    "test_error_arr -= test_average_arr\n",
    "print(test_error_arr.shape)\n",
    "print(len(test_MSE_arr))"
   ]
  },
  {
   "cell_type": "code",
   "execution_count": null,
   "metadata": {},
   "outputs": [],
   "source": [
    "C = np.matmul(V.transpose(), test_error_arr[:,:].transpose())\n",
    "R = np.matmul(V[:,:lowest], C[:lowest]).transpose() + test_average_arr\n",
    "# Obtain test error MSE and RMSE, use only top 100 eigenvectors\n",
    "difference = 0\n",
    "total = 0\n",
    "for i in test_MSE_arr:\n",
    "    difference += (R[test_user_id_to_idx[i[0]],anime_id_to_idx[i[1]]] - i[2]) ** 2\n",
    "    total += 1\n",
    "mse = difference/total\n",
    "rmse = math.sqrt(mse)\n",
    "print(mse, rmse)"
   ]
  },
  {
   "cell_type": "code",
   "execution_count": null,
   "metadata": {},
   "outputs": [],
   "source": [
    "# Obtain variance and STD\n",
    "difference = 0\n",
    "total = 0\n",
    "for i in test_MSE_arr:\n",
    "    difference += (average_anime[anime_id_to_idx[i[1]]] - i[2]) ** 2\n",
    "    total += 1\n",
    "mse = difference/total\n",
    "rmse = math.sqrt(mse)\n",
    "print(mse, rmse)"
   ]
  },
  {
   "cell_type": "code",
   "execution_count": null,
   "metadata": {},
   "outputs": [],
   "source": []
  }
 ],
 "metadata": {
  "kernelspec": {
   "display_name": "Python 3",
   "language": "python",
   "name": "python3"
  },
  "language_info": {
   "codemirror_mode": {
    "name": "ipython",
    "version": 3
   },
   "file_extension": ".py",
   "mimetype": "text/x-python",
   "name": "python",
   "nbconvert_exporter": "python",
   "pygments_lexer": "ipython3",
   "version": "3.7.3"
  }
 },
 "nbformat": 4,
 "nbformat_minor": 2
}
